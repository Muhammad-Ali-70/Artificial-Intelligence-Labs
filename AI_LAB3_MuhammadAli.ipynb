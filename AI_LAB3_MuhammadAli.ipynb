{
  "nbformat": 4,
  "nbformat_minor": 0,
  "metadata": {
    "colab": {
      "provenance": [],
      "collapsed_sections": []
    },
    "kernelspec": {
      "name": "python3",
      "display_name": "Python 3"
    },
    "language_info": {
      "name": "python"
    }
  },
  "cells": [
    {
      "cell_type": "code",
      "source": [
        "# Muhammad Ali\n",
        "# FA20-BCS-070\n",
        "# LAB 3\n",
        "\n",
        "\n",
        "#LAB 3 Activity 1\n",
        "\n",
        "class Node:\n",
        "    def __init__(self, state, parent, actions, totalCost):\n",
        "        self.state = state  \n",
        "        self.parent = parent  \n",
        "        self.actions = actions \n",
        "        self.totalCost = totalCost \n",
        "    \n",
        "\n",
        "def bfs():\n",
        "    initialState = 'D'\n",
        "    goalState = 'C'\n",
        "    \n",
        "    graph = {'A' : Node('A', None , ['B', 'C', 'E'], None),\n",
        "         'B' : Node('B', None , ['A', 'D', 'E'], None),\n",
        "         'C' : Node('C', None , ['A', 'F', 'G'], None),\n",
        "         'D' : Node('D', None , ['B', 'E'], None),\n",
        "         'E' : Node('E', None , ['A', 'B', 'D'], None),\n",
        "         'F' : Node('F', None , ['C'], None),\n",
        "         'G' : Node('G', None , ['C'], None)}\n",
        "    \n",
        "    queue = [initialState]\n",
        "    visited = []\n",
        "    \n",
        "    while len(queue) != 0:\n",
        "        currentNode = queue.pop(0)\n",
        "        visited.append(currentNode)\n",
        "        for child in graph[currentNode].actions:\n",
        "            if child not in queue and child not in visited:\n",
        "                graph[child].parent = currentNode\n",
        "                if graph[child].state == goalState:\n",
        "                    return actionSequence(graph , initialState, goalState)\n",
        "                queue.append(child)\n",
        "                \n",
        "def actionSequence(graph , initialState, goalState):\n",
        "    solution = [goalState]\n",
        "    currentParent = graph[goalState].parent\n",
        "    while currentParent != None:\n",
        "        solution.append(currentParent)\n",
        "        currentParent = graph[currentParent].parent\n",
        "    solution.reverse()\n",
        "    return solution\n",
        "    \n",
        "    \n",
        "sol = bfs()\n",
        "print(sol)"
      ],
      "metadata": {
        "colab": {
          "base_uri": "https://localhost:8080/"
        },
        "id": "xBR5ebzet4wo",
        "outputId": "4d1844eb-dc2b-4aa2-bc51-6fbb37f81f22"
      },
      "execution_count": 4,
      "outputs": [
        {
          "output_type": "stream",
          "name": "stdout",
          "text": [
            "['D', 'B', 'A', 'C']\n"
          ]
        }
      ]
    },
    {
      "cell_type": "code",
      "source": [
        "# Muhammad Ali\n",
        "# FA20-BCS-070\n",
        "# LAB 3\n",
        "\n",
        "\n",
        "#LAB 3 Graded Task 1\n",
        "\n",
        "class Node:\n",
        "    def __init__(self, state, parent, actions): # self act as this keyword\n",
        "        self.state = state                      # state is the current node\n",
        "        self.parent = parent                    # parent node of the current node.\n",
        "        self.actions = actions                  # actions means node k can go to following nodes\n",
        "\n",
        "def BFS():\n",
        "    startingNode = input(\"Enter the initial Node: \")\n",
        "    destinationNode = input(\"Enter the Destination Node: \")\n",
        "\n",
        "    nodeGraphs = {'Oradea': Node('Oradea', None, ['Zerind' , 'Sibui']),\n",
        "                  'Zerind': Node('Zerind', None, ['Oradea' , 'Arad']),\n",
        "                  'Neamt': Node('Neamt', None, ['Iasi']),\n",
        "                  'Arad': Node('Arad', None, ['Zerind', 'Sibui' , 'Timisoara']),\n",
        "                  'Isai': Node('Isai', None, ['Neamt','Vaslui']),\n",
        "                  'Sibui': Node('Sibui', None, ['Oradea', 'Arad' , 'Fagaras']),\n",
        "                  'Fagaras': Node('Fagaras', None, ['Sibui', 'Bucharest']),\n",
        "                  'Vaslui': Node('Vaslui', None, ['Isai','Urziceni']),\n",
        "                  'Timisoara': Node('Timisoara', None, ['Arad','Lugoj']),\n",
        "                  'Riminica': Node('Riminica', None, ['Sibui','Pitesti','Craiova']),\n",
        "                  'Lugoj': Node('Lugoj', None, ['Timisoara','Mehadia']),\n",
        "                  'Pitesti': Node('Pitesti', None, ['Riminica','Craiova','Bucharest']),\n",
        "                  'Mehadia': Node('Mehadia', None, ['Lugoj','Drobeta']),\n",
        "                  'Bucharest': Node('Bucharest', None, ['Fagaras','Pitesti','Urziceni']),\n",
        "                  'Urziceni': Node('Urziceni', None, ['Bucharest','Hirsova','Vaslui']),\n",
        "                  'Hirsova': Node('Hirsova', None, ['Urziceni','Eforie']),\n",
        "                  'Drobeta': Node('Drobeta', None, ['Mehndia','Craiova']),\n",
        "                  'Craiova': Node('Craiova', None, ['Drobeta','Riminica','Pitesti']),\n",
        "                  'Giurgui': Node('Giurgui', None, ['Bucharest']),\n",
        "                  'Eforie': Node('Eforie', None, ['Hirsova'])}\n",
        "    queue = [startingNode]\n",
        "    visitedNode = []\n",
        "    \n",
        "    while len(queue) != 0:\n",
        "        temp = queue.pop(0)\n",
        "        visitedNode.append(temp)\n",
        "        \n",
        "        for child in nodeGraphs[temp].actions:\n",
        "            if child not in queue and child not in visitedNode:\n",
        "                nodeGraphs[child].parent = temp\n",
        "                if nodeGraphs[child].state == destinationNode:\n",
        "                    return roadMap(nodeGraphs, startingNode ,destinationNode)\n",
        "                queue.append(child)\n",
        "                \n",
        "def roadMap(nodeGraphs, startingNode, destinationNode):\n",
        "    temporary = [destinationNode]\n",
        "    parentCurrent = nodeGraphs[destinationNode].parent\n",
        "    \n",
        "    while parentCurrent != None:\n",
        "        temporary.append(parentCurrent)\n",
        "        parentCurrent = nodeGraphs[parentCurrent].parent\n",
        "    temporary.reverse()\n",
        "    return temporary\n",
        "\n",
        "sol = BFS()\n",
        "print()\n",
        "print(\"Shotest Path Is: \" , sol)"
      ],
      "metadata": {
        "colab": {
          "base_uri": "https://localhost:8080/"
        },
        "id": "FHqnbltSuCQ9",
        "outputId": "2f8ba604-44a7-49ed-bd29-07cc143bddfb"
      },
      "execution_count": 5,
      "outputs": [
        {
          "output_type": "stream",
          "name": "stdout",
          "text": [
            "Enter the initial Node: Arad\n",
            "Enter the Destination Node: Drobeta\n",
            "\n",
            "Shotest Path Is:  ['Arad', 'Timisoara', 'Lugoj', 'Mehadia', 'Drobeta']\n"
          ]
        }
      ]
    },
    {
      "cell_type": "code",
      "source": [
        "# Muhammad Ali\n",
        "# FA20-BCS-070\n",
        "# LAB 3\n",
        "\n",
        "\n",
        "#LAB 3 Graded Task 2\n",
        "\n",
        "def solveMazeWithPath(maze):\n",
        "    R, C = len(maze), len(maze[0])\n",
        "\n",
        "    start = (0, 0)\n",
        "    for r in range(R):\n",
        "        for c in range(C):\n",
        "            if maze[r][c] == 'S':\n",
        "                start = (r, c)\n",
        "                break\n",
        "        else:\n",
        "            continue\n",
        "        break\n",
        "    else:\n",
        "        return None\n",
        "\n",
        "    queue = deque()\n",
        "    queue.appendleft((start[0], start[1], 0, [start[0] * C + start[1]]))\n",
        "    directions = [[0, 1], [0, -1], [1, 0], [-1, 0]]\n",
        "    visited = [[False] * C for _ in range(R)]\n",
        "\n",
        "    while len(queue) != 0:\n",
        "        coord = queue.pop()\n",
        "        visited[coord[0]][coord[1]] = True\n",
        "\n",
        "        if maze[coord[0]][coord[1]] == \"E\":\n",
        "            return coord[2], [[i//C, i%C] for i in coord[3]] # Return path length, boxes on path\n",
        "\n",
        "        for dir in directions:\n",
        "            nr, nc = coord[0] + dir[0], coord[1] + dir[1]\n",
        "            if (nr < 0 or nr >= R or nc < 0 or nc >= C or maze[nr][nc] == \"#\" or visited[nr][nc]): continue\n",
        "            queue.appendleft((nr, nc, coord[2] + 1, coord[3] + [nr * C + nc]))"
      ],
      "metadata": {
        "id": "RbHLlqXqw3rK"
      },
      "execution_count": 6,
      "outputs": []
    }
  ]
}