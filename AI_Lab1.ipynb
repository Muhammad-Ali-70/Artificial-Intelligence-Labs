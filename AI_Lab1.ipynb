{
  "nbformat": 4,
  "nbformat_minor": 0,
  "metadata": {
    "colab": {
      "provenance": [],
      "collapsed_sections": []
    },
    "kernelspec": {
      "name": "python3",
      "display_name": "Python 3"
    },
    "language_info": {
      "name": "python"
    }
  },
  "cells": [
    {
      "cell_type": "code",
      "execution_count": 2,
      "metadata": {
        "colab": {
          "base_uri": "https://localhost:8080/"
        },
        "id": "f_bybUfyc-Wl",
        "outputId": "ce643d91-82fd-4b5d-ffce-2e02d41867ae"
      },
      "outputs": [
        {
          "output_type": "stream",
          "name": "stdout",
          "text": [
            "Enter any Number : 10\n",
            "The Number  10  is Even\n"
          ]
        }
      ],
      "source": [
        "#Activity 1\n",
        "\n",
        "number  = int(input(\"Enter any Number : \"))\n",
        "\n",
        "if (number % 2 == 0):\n",
        "  print(\"The Number \",number,\" is Even\")\n",
        "else:\n",
        "  print(\"The Number \",number,\" is Odd\")\n"
      ]
    },
    {
      "cell_type": "code",
      "source": [
        "# Activity 2\n",
        "\n",
        "sum = 0\n",
        "\n",
        "number = int(input(\"Enter any Number : \"))\n",
        "\n",
        "while (number != 0):\n",
        "  sum= sum+ number\n",
        "  number = int(input(\"Enter any Number : \"))\n",
        "\n",
        "print(\"The Sum is : \",sum)"
      ],
      "metadata": {
        "colab": {
          "base_uri": "https://localhost:8080/"
        },
        "id": "SaWES5VzfjiI",
        "outputId": "b5eeaa71-af70-4d39-822b-aed2f6866e4d"
      },
      "execution_count": 3,
      "outputs": [
        {
          "output_type": "stream",
          "name": "stdout",
          "text": [
            "Enter any Number : 10\n",
            "Enter any Number : 4\n",
            "Enter any Number : 5\n",
            "Enter any Number : 6\n",
            "Enter any Number : 0\n",
            "The Sum is :  25\n"
          ]
        }
      ]
    },
    {
      "cell_type": "code",
      "source": [
        "# Activity 3\n",
        "\n",
        "isprime= True\n",
        "i=2\n",
        "\n",
        "number = int(input(\"Enter any Number : \"))\n",
        "while (i < number):\n",
        "  reminder = number % i\n",
        "  if (reminder == 0):\n",
        "    isprime= False\n",
        "  else:\n",
        "    i=i+1\n",
        "\n",
        "if (isprime):\n",
        "  print(\"The Number is a Prime Number\")\n",
        "else:\n",
        "  print(\"The Number is NOT a Prime Number\")"
      ],
      "metadata": {
        "colab": {
          "base_uri": "https://localhost:8080/"
        },
        "id": "TUfxvigqh1Ph",
        "outputId": "bdd24a26-a163-47ce-d5e8-d3da5b88be88"
      },
      "execution_count": 4,
      "outputs": [
        {
          "output_type": "stream",
          "name": "stdout",
          "text": [
            "Enter any Number : 5\n",
            "The Number is a Prime Number\n"
          ]
        }
      ]
    },
    {
      "cell_type": "code",
      "source": [
        "# Activity 4\n",
        "\n",
        "i=0\n",
        "sum =0\n",
        "\n",
        "while(i <= 4):\n",
        "  number = int(input(\"Enter any Number : \"))\n",
        "  sum = sum+number\n",
        "  i=i+1\n",
        "\n",
        "print(sum)\n"
      ],
      "metadata": {
        "colab": {
          "base_uri": "https://localhost:8080/"
        },
        "id": "rdBcCgIhizb2",
        "outputId": "6f12834f-0f92-44b5-de94-975b3b83f965"
      },
      "execution_count": 7,
      "outputs": [
        {
          "output_type": "stream",
          "name": "stdout",
          "text": [
            "Enter any Number : 5\n",
            "Enter any Number : 4\n",
            "Enter any Number : 3\n",
            "Enter any Number : 2\n",
            "Enter any Number : 1\n",
            "15\n"
          ]
        }
      ]
    },
    {
      "cell_type": "code",
      "source": [
        "# Activity 5\n",
        "\n",
        "sum =0\n",
        "i =1\n",
        "\n",
        "while (i <=10):\n",
        "  sum = sum+i\n",
        "  i= i+1\n",
        "\n",
        "print(sum)\n"
      ],
      "metadata": {
        "colab": {
          "base_uri": "https://localhost:8080/"
        },
        "id": "-0jX8iZ7jbF0",
        "outputId": "83761d39-e89e-432d-b7d9-b1c45cfec6a0"
      },
      "execution_count": 9,
      "outputs": [
        {
          "output_type": "stream",
          "name": "stdout",
          "text": [
            "55\n"
          ]
        }
      ]
    },
    {
      "cell_type": "code",
      "source": [
        "# Activity 6\n",
        "\n",
        "name= input(\"What is Your Name? \")\n",
        "age = int(input(\"What is Your Age? \"))\n",
        "city = input(\"In which city do you Live? \")\n",
        "\n",
        "print(\"-----Your Personal Data ------\")\n",
        "print(\"Welcome Mr.\"+name)\n",
        "print(\"You age is : \",age)\n",
        "print(\"You live in \"+city+\" City!\")"
      ],
      "metadata": {
        "colab": {
          "base_uri": "https://localhost:8080/"
        },
        "id": "sRn-VWVGkMtq",
        "outputId": "f8775747-acd9-46b4-da7e-45e074af1193"
      },
      "execution_count": 10,
      "outputs": [
        {
          "output_type": "stream",
          "name": "stdout",
          "text": [
            "What is Your Name? Muhammad Ali\n",
            "What is Your Age? 20\n",
            "In which city do you Live? Attock\n",
            "-----Your Personal Data ------\n",
            "Welcome Mr.Muhammad Ali\n",
            "You age is :  20\n",
            "You live in Attock City!\n"
          ]
        }
      ]
    }
  ]
}